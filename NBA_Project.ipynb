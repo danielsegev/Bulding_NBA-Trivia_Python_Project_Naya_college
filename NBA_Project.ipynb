{
  "nbformat": 4,
  "nbformat_minor": 0,
  "metadata": {
    "colab": {
      "provenance": [],
      "authorship_tag": "ABX9TyOVHPo5PNHjAVfB1vCIbvSp",
      "include_colab_link": true
    },
    "kernelspec": {
      "name": "python3",
      "display_name": "Python 3"
    },
    "language_info": {
      "name": "python"
    }
  },
  "cells": [
    {
      "cell_type": "markdown",
      "metadata": {
        "id": "view-in-github",
        "colab_type": "text"
      },
      "source": [
        "<a href=\"https://colab.research.google.com/github/danielsegev/Bulding_NBA-Trivia_Python_Project_Naya_college/blob/main/NBA_Project.ipynb\" target=\"_parent\"><img src=\"https://colab.research.google.com/assets/colab-badge.svg\" alt=\"Open In Colab\"/></a>"
      ]
    },
    {
      "cell_type": "code",
      "execution_count": 75,
      "metadata": {
        "id": "wZTrpHd-ZM50"
      },
      "outputs": [],
      "source": [
        "import pandas as pd\n",
        "import urllib.request\n",
        "from PIL import Image\n",
        "import io\n",
        "from IPython.display import display\n",
        "import random\n",
        "import os\n",
        "import sys\n",
        "\n",
        "# Load NBA player statistics dataset\n",
        "nba_data = pd.read_csv('nba-data.csv')"
      ]
    },
    {
      "cell_type": "code",
      "source": [
        "# Clue 1 - player's birthdate, city and state\n",
        "\n",
        "def clue_1(player_name):\n",
        "  player_data = nba_data[nba_data['player_name'] == player_name]\n",
        "  birthdate = player_data['born'].min()\n",
        "  birth_city = player_data['birth_city'].min()\n",
        "  birth_state = player_data['birth_state'].min()\n",
        "  return (f'He was born at {birthdate} in {birth_city}, {birth_state}.')"
      ],
      "metadata": {
        "id": "jAAGacbiZsQ6"
      },
      "execution_count": 3,
      "outputs": []
    },
    {
      "cell_type": "code",
      "source": [
        "# Clue 2 - player's first and last years played\n",
        "\n",
        "def clue_2(player_name):\n",
        "  player_data = nba_data[nba_data['player_name'] == player_name]\n",
        "  first_year = player_data['year'].min()\n",
        "  last_year = player_data['year'].max()\n",
        "  return (f\"He played from {first_year} to {last_year}\")"
      ],
      "metadata": {
        "id": "MEpzjGMEaBfh"
      },
      "execution_count": 4,
      "outputs": []
    },
    {
      "cell_type": "code",
      "source": [
        "# Clue 3 - player's teams played\n",
        "\n",
        "def clue_3(player_name):\n",
        "  player_data = nba_data[nba_data['player_name'] == player_name]\n",
        "  first_team = player_data.sort_values(by='year')['team'].iloc[0]\n",
        "  last_team = player_data.sort_values(by='year', ascending=False)['team'].iloc[0]\n",
        "  if first_team == last_team:\n",
        "    return (f'He played all of his career in {first_team}.')\n",
        "  else:\n",
        "    return (f'First team: {first_team}. Last team: {last_team}.')"
      ],
      "metadata": {
        "id": "ST5o1Iq3aCtD"
      },
      "execution_count": 5,
      "outputs": []
    },
    {
      "cell_type": "code",
      "source": [
        "# Clue 4 - player's height and weight\n",
        "\n",
        "def clue_4(player_name):\n",
        "  player_data = nba_data[nba_data['player_name'] == player_name]\n",
        "  height = player_data['height'].min()\n",
        "  weight = player_data['weight'].min()\n",
        "  return (f'He weighs {weight} kg, and is {height} cm tall.')"
      ],
      "metadata": {
        "id": "6Z9yC3cOaEUx"
      },
      "execution_count": 6,
      "outputs": []
    },
    {
      "cell_type": "code",
      "source": [
        "# Clue 5 - achievements\n",
        "\n",
        "def clue_5(player_name):\n",
        "  player_data = nba_data[nba_data['player_name'] == player_name]\n",
        "  championships = player_data['championships'].min()\n",
        "  mvps = player_data['mvps'].min()\n",
        "  allstar_selections = player_data['allstar_selections'].min()\n",
        "  all_nba = player_data['all_nba'].min()\n",
        "  return (f'He won {championships} championsips, {mvps} MVPs, was selected {allstar_selections} times to the allstar game, and was All-NBA {all_nba} times during his career.')"
      ],
      "metadata": {
        "id": "RcQWttZnaFjK"
      },
      "execution_count": 7,
      "outputs": []
    },
    {
      "cell_type": "code",
      "source": [
        "# Clue 6 - player's position\n",
        "\n",
        "def clue_6(player_name):\n",
        "  player_data = nba_data[nba_data['player_name'] == player_name]\n",
        "  position = player_data['position'].max()\n",
        "  return (f'He played in the {position} position.')"
      ],
      "metadata": {
        "id": "UbGQIGKDaGzg"
      },
      "execution_count": 8,
      "outputs": []
    },
    {
      "cell_type": "code",
      "source": [
        "# Clue 7 - player's total and avg points\n",
        "def clue_7(player_name):\n",
        "  player_data = nba_data[nba_data['player_name'] == player_name]\n",
        "  total_points = player_data['pts'].sum()\n",
        "  total_games = player_data['g'].sum()\n",
        "  average_points = round(total_points / total_games, 2)\n",
        "  return print(f'He scored a total of {total_points} points during his career.\\nAveraged {average_points} points per game.')"
      ],
      "metadata": {
        "id": "Nh1G_VxpaH93"
      },
      "execution_count": 9,
      "outputs": []
    },
    {
      "cell_type": "code",
      "source": [
        "# Clue 8 - player's college\n",
        "def clue_8(player_name):\n",
        "  player_data = nba_data[nba_data['player_name'] == player_name]\n",
        "  college = player_data['collage'].min()\n",
        "  return (f\"The player played for {college} in college.\")"
      ],
      "metadata": {
        "id": "uAHAAUcXaJ5b"
      },
      "execution_count": 10,
      "outputs": []
    },
    {
      "cell_type": "code",
      "source": [
        "# player's general statistics\n",
        "def players_stats(player_name):\n",
        "  player_data = nba_data[nba_data['player_name'] == player_name]\n",
        "  grouped_data = player_data.groupby(['year', 'team']).agg({'pts': 'sum', 'rtb': 'sum', 'ast': 'sum', 'g': 'sum'}).reset_index()\n",
        "  grouped_data = grouped_data.rename(columns={'year': 'Year', 'team': 'Team', 'pts': 'Total Points', 'rtb': 'Total Rebounds', 'ast': 'Total Assists', 'g': 'GP'})\n",
        "  grouped_data['PPG'] = round(grouped_data['Total Points'] / grouped_data['GP'],1)\n",
        "  grouped_data['RPG'] = round(grouped_data['Total Rebounds'] / grouped_data['GP'],1)\n",
        "  grouped_data['APG'] = round(grouped_data['Total Assists'] / grouped_data['GP'],1)\n",
        "  grouped_data = grouped_data.drop(columns=['Total Points', 'Total Rebounds', 'Total Assists'])\n",
        "  return grouped_data"
      ],
      "metadata": {
        "id": "lIt2r69XaLUf"
      },
      "execution_count": 74,
      "outputs": []
    },
    {
      "cell_type": "code",
      "source": [
        "# Top 10 players in total points\n",
        "def general_stats():\n",
        "  print('1 - By Year')\n",
        "  print('2 - All Time')\n",
        "  time_span = input('Please choose one of the following: ').strip().title()\n",
        "  if time_span == '2':\n",
        "      while True:\n",
        "        print(\"Please choose your main metric:\")\n",
        "        print(\"1 - Points\")\n",
        "        print(\"2 - Rebounds\")\n",
        "        print(\"3 - Assists\")\n",
        "        measure = input('Please type your choice: ').strip().title()\n",
        "        if measure == '1':\n",
        "          grouped_data = nba_data.groupby(['player_name']).agg({'pts': 'sum', 'g': 'sum'}).reset_index()\n",
        "          grouped_data = grouped_data.rename(columns={'player_name': 'Player Name', 'pts': 'Total Points', 'g': 'Games Played'})\n",
        "          grouped_data['Points per Game'] = round(grouped_data['Total Points'] / grouped_data['Games Played'],1)\n",
        "          grouped_data = grouped_data.sort_values(by='Points per Game', ascending=False)\n",
        "          grouped_data = grouped_data.head(10)\n",
        "          #print(grouped_data)\n",
        "          return grouped_data\n",
        "        elif measure == '2':\n",
        "          grouped_data = nba_data.groupby(['player_name']).agg({'rtb': 'sum', 'g': 'sum'}).reset_index()\n",
        "          grouped_data = grouped_data.rename(columns={'player_name': 'Player Name', 'rtb': 'Total Rebounds', 'g': 'Games Played'})\n",
        "          grouped_data['Rebounds per Game'] = round(grouped_data['Total Rebounds'] / grouped_data['Games Played'],1)\n",
        "          grouped_data = grouped_data.sort_values(by='Rebounds per Game', ascending=False)\n",
        "          grouped_data = grouped_data.head(10)\n",
        "          #print(grouped_data)\n",
        "          return grouped_data\n",
        "        elif measure == '3':\n",
        "          grouped_data = nba_data.groupby(['player_name']).agg({'ast': 'sum', 'g': 'sum'}).reset_index()\n",
        "          grouped_data = grouped_data.rename(columns={'player_name': 'Player Name', 'ast': 'Total Assists', 'g': 'Games Played'})\n",
        "          grouped_data['Assists per Game'] = round(grouped_data['Total Assists'] / grouped_data['Games Played'],1)\n",
        "          grouped_data = grouped_data.sort_values(by='Assists per Game', ascending=False)\n",
        "          grouped_data = grouped_data.head(10)\n",
        "          #print(grouped_data)\n",
        "          return grouped_data\n",
        "        else:\n",
        "          print(\"I am sorry, I did not get that. Let's try again.\")\n",
        "          continue\n",
        "  elif time_span == '1':\n",
        "    year = input('Please choose a year from 1985 to 2017: ').strip().title()\n",
        "    while True:\n",
        "      if int(year) >= 1985 and int(year) <= 2017:\n",
        "        while True:\n",
        "          print(\"Please choose your main metric:\")\n",
        "          print(\"1 - Points\")\n",
        "          print(\"2 - Rebounds\")\n",
        "          print(\"3 - Assists\")\n",
        "          measure = input('Please type your choice: ').strip().title()\n",
        "          if measure == '1':\n",
        "            grouped_data = nba_data[nba_data['year'] == int(year)].groupby(['player_name', 'year']).agg({'pts': 'sum', 'g': 'sum'}).reset_index()\n",
        "            grouped_data = grouped_data.rename(columns={'player_name': 'Player Name', 'pts': 'Total Points', 'g': 'Games Played'})\n",
        "            grouped_data['Points per Game'] = round(grouped_data['Total Points'] / grouped_data['Games Played'],1)\n",
        "            grouped_data = grouped_data.sort_values(by='Points per Game', ascending=False)\n",
        "            grouped_data = grouped_data.head(10)\n",
        "            #print(grouped_data)\n",
        "            return grouped_data\n",
        "          elif measure == '2':\n",
        "            grouped_data = nba_data[nba_data['year'] == int(year)].groupby(['player_name', 'year']).agg({'rtb': 'sum', 'g': 'sum'}).reset_index()\n",
        "            grouped_data = grouped_data.rename(columns={'player_name': 'Player Name', 'rtb': 'Total Rebounds', 'g': 'Games Played'})\n",
        "            grouped_data['Rebounds per Game'] = round(grouped_data['Total Rebounds'] / grouped_data['Games Played'],1)\n",
        "            grouped_data = grouped_data.sort_values(by='Rebounds per Game', ascending=False)\n",
        "            grouped_data = grouped_data.head(10)\n",
        "            #print(grouped_data)\n",
        "            return grouped_data\n",
        "          elif measure == '3':\n",
        "            grouped_data = nba_data[nba_data['year'] == int(year)].groupby(['player_name', 'year']).agg({'ast': 'sum', 'g': 'sum'}).reset_index()\n",
        "            grouped_data = grouped_data.rename(columns={'player_name': 'Player Name', 'ast': 'Total Assists', 'g': 'Games Played'})\n",
        "            grouped_data['Assistsunds per Game'] = round(grouped_data['Total Assists'] / grouped_data['Games Played'],1)\n",
        "            grouped_data = grouped_data.sort_values(by='Assists per Game', ascending=False)\n",
        "            grouped_data = grouped_data.head(10)\n",
        "            #print(grouped_data)\n",
        "            return grouped_data\n",
        "          else:\n",
        "            print(\"I am sorry, I did not get that. Let's try again.\")\n",
        "            continue\n",
        "      else:\n",
        "        year = input('Invalid Year. \\nPlease choose a year from 1985 to 2017: ').strip().title()\n",
        "        continue"
      ],
      "metadata": {
        "id": "QhvpgmkdaM4K"
      },
      "execution_count": 73,
      "outputs": []
    },
    {
      "cell_type": "code",
      "source": [
        "# Function to generate a random player\n",
        "def select_random_player():\n",
        "  player = nba_data.sample()\n",
        "  player_name = player['player_name'].values[0]\n",
        "  return player_name"
      ],
      "metadata": {
        "id": "oZGLIBWwZtv0"
      },
      "execution_count": 72,
      "outputs": []
    },
    {
      "cell_type": "code",
      "source": [
        "def clues_generator(number, player):\n",
        "    clue_number = \"clue_\" + str(number)\n",
        "\n",
        "    # Call the function dynamically\n",
        "    if hasattr(sys.modules[__name__], clue_number):\n",
        "      return getattr(sys.modules[__name__], clue_number)(player)\n",
        "    else:\n",
        "      return f\"Clue {number} does not exist.\""
      ],
      "metadata": {
        "id": "ELQhT2TRaPwk"
      },
      "execution_count": 71,
      "outputs": []
    },
    {
      "cell_type": "code",
      "source": [
        "# Function to play the game\n",
        "def play_game():\n",
        "    print(\"Welcome to the NBA Stat Trivia Challenge!\")\n",
        "    print(\"You have up to 5 attempts to guess the player.\")\n",
        "    print(\"Type 'clue' to reveal more clues.\")\n",
        "    print(\"Type 'stats' to display the player's career statistics.\")\n",
        "    print(\"Type 'quit' at any time to exit the game.\")\n",
        "    print(\"Good luck!\")\n",
        "\n",
        "    # Number of questions in the bank\n",
        "    number_of_questions = 8\n",
        "\n",
        "    # Select a random player\n",
        "    player = select_random_player()\n",
        "\n",
        "    # Define the URL of the image\n",
        "    player_data = nba_data[nba_data['player_name'] == player]\n",
        "    url = player_data['image'].min()\n",
        "\n",
        "    # Open the URL and download the image data\n",
        "    image_data = urllib.request.urlopen(url).read()\n",
        "\n",
        "    # Create an Image object from the downloaded data\n",
        "    image = Image.open(io.BytesIO(image_data))\n",
        "\n",
        "    # Display the clues to the player\n",
        "    random_number = random.randint(1, number_of_questions)\n",
        "    first_clue = clues_generator(random_number, player)\n",
        "    print(f\"Here is you first clue: {first_clue}\")\n",
        "\n",
        "    # Number of attempts allowed\n",
        "    attempts_left = 5\n",
        "\n",
        "    # Keep track of used clues\n",
        "    used_clues = [random_number]\n",
        "\n",
        "    while attempts_left > 0:\n",
        "        guess = input(\"\\nEnter your guess: \").strip().title()\n",
        "\n",
        "        if guess.lower() == 'quit':\n",
        "            print(\"Thanks for playing!\")\n",
        "            return\n",
        "\n",
        "        if guess == player:\n",
        "            print(\"Congratulations! You guessed correctly.\")\n",
        "            # Display the image in the notebook\n",
        "            resize_percentage = 50  # 50% of the original size\n",
        "            image.thumbnail((image.width * resize_percentage // 100, image.height * resize_percentage // 100))\n",
        "            display(image)\n",
        "\n",
        "            # Return to main function\n",
        "            choose_next()\n",
        "\n",
        "            return\n",
        "\n",
        "        if guess.lower() == 'stats':\n",
        "          print(players_stats(player))\n",
        "          continue\n",
        "\n",
        "        # Check if the user wants to reveal one more clue\n",
        "        if guess.lower() == 'clue':\n",
        "          if len(used_clues) < number_of_questions:\n",
        "            while True:\n",
        "              new_clue = random.randint(1, number_of_questions)\n",
        "              if new_clue not in used_clues:\n",
        "                additional_clue = clues_generator(new_clue, player)\n",
        "                print(f\"Here's an additional clue: {additional_clue}\")\n",
        "                used_clues.append(new_clue)\n",
        "                break\n",
        "            continue\n",
        "          else:\n",
        "            print(\"Sorry, you're out of clues.\")\n",
        "            print(f\"You have {attempts_left} attempts left.\")\n",
        "            continue\n",
        "        print(\"Sorry, that's incorrect.\")\n",
        "        attempts_left -= 1\n",
        "        print(f\"You have {attempts_left} attempts left.\")\n",
        "\n",
        "    print(f\"\\nYou've used all your attempts. The correct answer is: {player}\")\n",
        "\n",
        "    # Display the image in the notebook\n",
        "    resize_percentage = 50  # 50% of the original size\n",
        "    image.thumbnail((image.width * resize_percentage // 100, image.height * resize_percentage // 100))\n",
        "    display(image)\n",
        "\n",
        "    # Return to main function\n",
        "    choose_next()\n",
        "\n",
        "    return"
      ],
      "metadata": {
        "id": "GCoIq5CaaRZr"
      },
      "execution_count": 81,
      "outputs": []
    },
    {
      "cell_type": "code",
      "source": [
        "def choose_first():\n",
        "  while True:\n",
        "    print(\"Welcome to the NBA trivia/stats generator!\")\n",
        "    print(\"Please choose one of the following:\")\n",
        "    print('1 - Play trivia')\n",
        "    print('2 - Show stats')\n",
        "    game = input(\"\\nChoose one option: \").strip().title()\n",
        "\n",
        "    if game == '2':\n",
        "      print(general_stats())\n",
        "      choose_next()\n",
        "      return\n",
        "\n",
        "    elif game == '1':\n",
        "      play_game()\n",
        "      return\n",
        "\n",
        "    else:\n",
        "      print('I am sorry, I did not get your answer. Please try again.')\n",
        "      continue"
      ],
      "metadata": {
        "id": "-EvDhE4UaTFR"
      },
      "execution_count": 69,
      "outputs": []
    },
    {
      "cell_type": "code",
      "source": [
        "def choose_next():\n",
        "  while True:\n",
        "    print(\"Please choose one of the following:\")\n",
        "    print('1 - Play trivia')\n",
        "    print('2 - Show stats')\n",
        "    print('3 - Quit')\n",
        "    print(\"Choose one option:\\n\")\n",
        "    game = input()\n",
        "    if game == '2':\n",
        "      print(general_stats())\n",
        "      choose_next()\n",
        "      return\n",
        "    elif game == '1':\n",
        "      play_game()\n",
        "      return\n",
        "    elif game == '3':\n",
        "      print(\"Thanks for playing!\")\n",
        "      return\n",
        "    else:\n",
        "      print('I am sorry, I did not get your answer. Please try again.')"
      ],
      "metadata": {
        "id": "_PnAsWaRaUhC"
      },
      "execution_count": 79,
      "outputs": []
    },
    {
      "cell_type": "code",
      "source": [
        "# Main function\n",
        "def main():\n",
        "    choose_first()\n",
        "\n",
        "if __name__ == \"__main__\":\n",
        "    main()"
      ],
      "metadata": {
        "colab": {
          "base_uri": "https://localhost:8080/",
          "height": 391
        },
        "id": "orKZLW_TaV1v",
        "outputId": "e4f00c3f-4c1c-4e7e-8754-4d03205b43e7"
      },
      "execution_count": 82,
      "outputs": [
        {
          "output_type": "stream",
          "name": "stdout",
          "text": [
            "Welcome to the NBA trivia/stats generator!\n",
            "Please choose one of the following:\n",
            "1 - Play trivia\n",
            "2 - Show stats\n"
          ]
        },
        {
          "output_type": "error",
          "ename": "KeyboardInterrupt",
          "evalue": "Interrupted by user",
          "traceback": [
            "\u001b[0;31m---------------------------------------------------------------------------\u001b[0m",
            "\u001b[0;31mKeyboardInterrupt\u001b[0m                         Traceback (most recent call last)",
            "\u001b[0;32m<ipython-input-82-71c71962adc0>\u001b[0m in \u001b[0;36m<cell line: 5>\u001b[0;34m()\u001b[0m\n\u001b[1;32m      4\u001b[0m \u001b[0;34m\u001b[0m\u001b[0m\n\u001b[1;32m      5\u001b[0m \u001b[0;32mif\u001b[0m \u001b[0m__name__\u001b[0m \u001b[0;34m==\u001b[0m \u001b[0;34m\"__main__\"\u001b[0m\u001b[0;34m:\u001b[0m\u001b[0;34m\u001b[0m\u001b[0;34m\u001b[0m\u001b[0m\n\u001b[0;32m----> 6\u001b[0;31m     \u001b[0mmain\u001b[0m\u001b[0;34m(\u001b[0m\u001b[0;34m)\u001b[0m\u001b[0;34m\u001b[0m\u001b[0;34m\u001b[0m\u001b[0m\n\u001b[0m",
            "\u001b[0;32m<ipython-input-82-71c71962adc0>\u001b[0m in \u001b[0;36mmain\u001b[0;34m()\u001b[0m\n\u001b[1;32m      1\u001b[0m \u001b[0;31m# Main function\u001b[0m\u001b[0;34m\u001b[0m\u001b[0;34m\u001b[0m\u001b[0m\n\u001b[1;32m      2\u001b[0m \u001b[0;32mdef\u001b[0m \u001b[0mmain\u001b[0m\u001b[0;34m(\u001b[0m\u001b[0;34m)\u001b[0m\u001b[0;34m:\u001b[0m\u001b[0;34m\u001b[0m\u001b[0;34m\u001b[0m\u001b[0m\n\u001b[0;32m----> 3\u001b[0;31m     \u001b[0mchoose_first\u001b[0m\u001b[0;34m(\u001b[0m\u001b[0;34m)\u001b[0m\u001b[0;34m\u001b[0m\u001b[0;34m\u001b[0m\u001b[0m\n\u001b[0m\u001b[1;32m      4\u001b[0m \u001b[0;34m\u001b[0m\u001b[0m\n\u001b[1;32m      5\u001b[0m \u001b[0;32mif\u001b[0m \u001b[0m__name__\u001b[0m \u001b[0;34m==\u001b[0m \u001b[0;34m\"__main__\"\u001b[0m\u001b[0;34m:\u001b[0m\u001b[0;34m\u001b[0m\u001b[0;34m\u001b[0m\u001b[0m\n",
            "\u001b[0;32m<ipython-input-69-92b12b5365f2>\u001b[0m in \u001b[0;36mchoose_first\u001b[0;34m()\u001b[0m\n\u001b[1;32m      5\u001b[0m     \u001b[0mprint\u001b[0m\u001b[0;34m(\u001b[0m\u001b[0;34m'1 - Play trivia'\u001b[0m\u001b[0;34m)\u001b[0m\u001b[0;34m\u001b[0m\u001b[0;34m\u001b[0m\u001b[0m\n\u001b[1;32m      6\u001b[0m     \u001b[0mprint\u001b[0m\u001b[0;34m(\u001b[0m\u001b[0;34m'2 - Show stats'\u001b[0m\u001b[0;34m)\u001b[0m\u001b[0;34m\u001b[0m\u001b[0;34m\u001b[0m\u001b[0m\n\u001b[0;32m----> 7\u001b[0;31m     \u001b[0mgame\u001b[0m \u001b[0;34m=\u001b[0m \u001b[0minput\u001b[0m\u001b[0;34m(\u001b[0m\u001b[0;34m\"\\nChoose one option: \"\u001b[0m\u001b[0;34m)\u001b[0m\u001b[0;34m.\u001b[0m\u001b[0mstrip\u001b[0m\u001b[0;34m(\u001b[0m\u001b[0;34m)\u001b[0m\u001b[0;34m.\u001b[0m\u001b[0mtitle\u001b[0m\u001b[0;34m(\u001b[0m\u001b[0;34m)\u001b[0m\u001b[0;34m\u001b[0m\u001b[0;34m\u001b[0m\u001b[0m\n\u001b[0m\u001b[1;32m      8\u001b[0m \u001b[0;34m\u001b[0m\u001b[0m\n\u001b[1;32m      9\u001b[0m     \u001b[0;32mif\u001b[0m \u001b[0mgame\u001b[0m \u001b[0;34m==\u001b[0m \u001b[0;34m'2'\u001b[0m\u001b[0;34m:\u001b[0m\u001b[0;34m\u001b[0m\u001b[0;34m\u001b[0m\u001b[0m\n",
            "\u001b[0;32m/usr/local/lib/python3.10/dist-packages/ipykernel/kernelbase.py\u001b[0m in \u001b[0;36mraw_input\u001b[0;34m(self, prompt)\u001b[0m\n\u001b[1;32m    849\u001b[0m                 \u001b[0;34m\"raw_input was called, but this frontend does not support input requests.\"\u001b[0m\u001b[0;34m\u001b[0m\u001b[0;34m\u001b[0m\u001b[0m\n\u001b[1;32m    850\u001b[0m             )\n\u001b[0;32m--> 851\u001b[0;31m         return self._input_request(str(prompt),\n\u001b[0m\u001b[1;32m    852\u001b[0m             \u001b[0mself\u001b[0m\u001b[0;34m.\u001b[0m\u001b[0m_parent_ident\u001b[0m\u001b[0;34m,\u001b[0m\u001b[0;34m\u001b[0m\u001b[0;34m\u001b[0m\u001b[0m\n\u001b[1;32m    853\u001b[0m             \u001b[0mself\u001b[0m\u001b[0;34m.\u001b[0m\u001b[0m_parent_header\u001b[0m\u001b[0;34m,\u001b[0m\u001b[0;34m\u001b[0m\u001b[0;34m\u001b[0m\u001b[0m\n",
            "\u001b[0;32m/usr/local/lib/python3.10/dist-packages/ipykernel/kernelbase.py\u001b[0m in \u001b[0;36m_input_request\u001b[0;34m(self, prompt, ident, parent, password)\u001b[0m\n\u001b[1;32m    893\u001b[0m             \u001b[0;32mexcept\u001b[0m \u001b[0mKeyboardInterrupt\u001b[0m\u001b[0;34m:\u001b[0m\u001b[0;34m\u001b[0m\u001b[0;34m\u001b[0m\u001b[0m\n\u001b[1;32m    894\u001b[0m                 \u001b[0;31m# re-raise KeyboardInterrupt, to truncate traceback\u001b[0m\u001b[0;34m\u001b[0m\u001b[0;34m\u001b[0m\u001b[0m\n\u001b[0;32m--> 895\u001b[0;31m                 \u001b[0;32mraise\u001b[0m \u001b[0mKeyboardInterrupt\u001b[0m\u001b[0;34m(\u001b[0m\u001b[0;34m\"Interrupted by user\"\u001b[0m\u001b[0;34m)\u001b[0m \u001b[0;32mfrom\u001b[0m \u001b[0;32mNone\u001b[0m\u001b[0;34m\u001b[0m\u001b[0;34m\u001b[0m\u001b[0m\n\u001b[0m\u001b[1;32m    896\u001b[0m             \u001b[0;32mexcept\u001b[0m \u001b[0mException\u001b[0m \u001b[0;32mas\u001b[0m \u001b[0me\u001b[0m\u001b[0;34m:\u001b[0m\u001b[0;34m\u001b[0m\u001b[0;34m\u001b[0m\u001b[0m\n\u001b[1;32m    897\u001b[0m                 \u001b[0mself\u001b[0m\u001b[0;34m.\u001b[0m\u001b[0mlog\u001b[0m\u001b[0;34m.\u001b[0m\u001b[0mwarning\u001b[0m\u001b[0;34m(\u001b[0m\u001b[0;34m\"Invalid Message:\"\u001b[0m\u001b[0;34m,\u001b[0m \u001b[0mexc_info\u001b[0m\u001b[0;34m=\u001b[0m\u001b[0;32mTrue\u001b[0m\u001b[0;34m)\u001b[0m\u001b[0;34m\u001b[0m\u001b[0;34m\u001b[0m\u001b[0m\n",
            "\u001b[0;31mKeyboardInterrupt\u001b[0m: Interrupted by user"
          ]
        }
      ]
    },
    {
      "cell_type": "code",
      "source": [],
      "metadata": {
        "id": "4js8NiRVdohQ"
      },
      "execution_count": null,
      "outputs": []
    }
  ]
}